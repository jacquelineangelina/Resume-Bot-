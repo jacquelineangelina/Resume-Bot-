{
 "cells": [
  {
   "cell_type": "markdown",
   "metadata": {},
   "source": [
    "# Scoring a Resume"
   ]
  },
  {
   "cell_type": "markdown",
   "metadata": {},
   "source": [
    "To recruit and filter through applicants, recruiters may often score and compare resumes to select candidates. We will be walking through a simple process of generating an overall resume score, based on scores for individual categories. "
   ]
  },
  {
   "cell_type": "code",
   "execution_count": 27,
   "metadata": {},
   "outputs": [],
   "source": [
    "import spacy\n",
    "import numpy as np\n",
    "import pandas as pd\n",
    "import re\n",
    "from glob import glob\n",
    "nlp = spacy.load('en')"
   ]
  },
  {
   "cell_type": "markdown",
   "metadata": {},
   "source": [
    "## Reading a Resume"
   ]
  },
  {
   "cell_type": "markdown",
   "metadata": {},
   "source": [
    "In order to work with the resumes, which are stored as PDF files, we need to extract the data into a string that we can parse in Python. To accomplish this, we want to take the PDF file and convert it to an image, which we then use the library `pytesseract` to convert to text using [optical character recognition](https://en.wikipedia.org/wiki/Optical_character_recognition). The logic that accomplishes this can be found in [`convert_resumes.py`](./convert_resumes.py), which we execute in the cell below."
   ]
  },
  {
   "cell_type": "code",
   "execution_count": 53,
   "metadata": {},
   "outputs": [],
   "source": [
    "!python3 convert_resumes.py"
   ]
  },
  {
   "cell_type": "markdown",
   "metadata": {},
   "source": [
    "To get the resume as a string, we simple need to open the file in a `with`-`open` block and read in the text."
   ]
  },
  {
   "cell_type": "code",
   "execution_count": 54,
   "metadata": {},
   "outputs": [
    {
     "name": "stdout",
     "output_type": "stream",
     "text": [
      "Jacqueline Angelina\n",
      "\n",
      "Education\n",
      "University of California, Berkeley\n",
      "\n",
      "B.A. Data Science, 2021\n",
      "Certificate in Design Innovation\n",
      "Certificate in Tech & Entrepreneurship\n",
      "\n",
      "Relevant Coursework\n",
      "\n",
      "Data Structures Data Science Principles\n",
      "\n",
      "Business Analytics Probability for Data Science\n",
      "Decision Modeling Microeco\n"
     ]
    }
   ],
   "source": [
    "with open(\"texts/Jacqueline Angelina_Resume_Sept2019.txt\") as f:\n",
    "    resume = f.read()\n",
    "    \n",
    "print(resume[0:300])"
   ]
  },
  {
   "cell_type": "markdown",
   "metadata": {},
   "source": [
    "## Splitting the Resume into Sections"
   ]
  },
  {
   "cell_type": "markdown",
   "metadata": {},
   "source": [
    "To get a clearer understanding of how the resume is organized and set up for information extraction later, we will first split the resume into sections using regular expressions. The function `split_into_sections` below will split a resume into a dictionary containing each of the keys in `section_regexes` with the value corresponding to that section of the resume."
   ]
  },
  {
   "cell_type": "code",
   "execution_count": 56,
   "metadata": {},
   "outputs": [
    {
     "data": {
      "text/plain": [
       "{'activities': '\\n\\nData Analyst / Upsync Consulting\\nSales pipeline strategy for tech start-up\\n\\nDesign Consultant / Innovative Design\\n\\njacqueline.angelina@berkeley.edu\\ngithub.com/jacquelineangelina\\nlinkedin.com/in/jacquelineangelina\\n\\n',\n",
       " 'awards': '\\n\\nFellowship Cohort Winner 2017\\n\\nCal Hacks 4.0\\n\\n1 of 8 teams selected from 1500\\nhackers in Cal Hacks, the world’s largest\\ncollegiate hackathon.\\n\\nReceived $1000 in project funding &\\nmentorship to further develop a\\nconversational language learning app.\\n\\nBest Venture, Best Branding 2016\\nColumbia University Global\\n\\nEntrepreneurship Program\\n\\nInitiated and developed visual branding, user\\ninterface design, target market\\nsegmentation, and competitive analysis for\\nStyle Stop, a public-sourced online clothing\\nrental platform.\\n\\n',\n",
       " 'education': '\\nUniversity of California, Berkeley\\n\\nB.A. Data Science, 2021\\nCertificate in Design Innovation\\nCertificate in Tech & Entrepreneurship\\n\\nRelevant Coursework\\n\\nData Structures Data Science Principles\\n\\nBusiness Analytics Probability for Data Science\\nDecision Modeling Microeconomic Analysis\\n\\nData Visualization User Experience Design\\n\\n',\n",
       " 'experience': '\\n\\nSummer 2019\\nSan Francisco, CA\\n\\nProduct Analytics Intern\\nRevive Solutions, Inc.\\n\\nValidated a new market segment by cleaning and analyzing 2000+ survey data\\nusing chi squared tests, correlation matrices & sentiment analysis with Python\\n\\nDecreased customer onboarding time by 40% through initiating automation in\\nmigrating and cleaning customer data for CRM integration\\n\\nBuilt information architecture for data management for world’s first AED fleet\\nmanagement platform, drove ideation & research for pilot loyalty program\\n\\nDeveloped Tableau dashboards for post campaign analytics, KPls, SEO\\n\\nData Science Research Intern\\nMercy Corps\\n\\nSept 2019 - Present\\nSan Francisco, CA\\n\\nUse remote sensing & machine learning to map the lifecycle of Maize varieties,\\nmonitor crop growth under different environmental conditions, and measure\\nindicators of health for smallholder crops in Sub-Saharan Africa\\n\\nModule Developer\\nBerkeley Division of Data Science & Information\\n\\nSept 2019 - Present\\nSan Francisco, CA\\n\\nDevelop an automated resume bot using Python, NLP and Jupyter notebook for\\nstudents in UC Berkeley’s Masters of Engineering program\\n\\nSummer 2018\\nJakarta, Indonesia\\n\\nProduct Management Intern\\nBizzy Indonesia\\n\\nShipped and conducted end to end redesign and A/B testing of vendor\\nverification tools for internal use - increasing vendor verification rate by 30%\\n\\nDefined product specifications and KPls through competitive landscaping,\\ncurrent product analysis, UX research and user acceptance testing\\n\\nLed Agile product development sprints, managed product roadmap, user stories\\n\\nVP of Creative Management & Documentation\\nBerkeley Indonesia Student Association\\n\\nMay 2018 - May 2019\\nBerkeley, CA\\n\\nSpearhead the club’s marketing strategy — led production of promotional\\nmaterial for Nusantara, Bay Area’s largest Indonesian cultural festival.\\nIncreased merchandise revenue by 60%.\\n\\n',\n",
       " 'original': 'Jacqueline Angelina\\n\\nEducation\\nUniversity of California, Berkeley\\n\\nB.A. Data Science, 2021\\nCertificate in Design Innovation\\nCertificate in Tech & Entrepreneurship\\n\\nRelevant Coursework\\n\\nData Structures Data Science Principles\\n\\nBusiness Analytics Probability for Data Science\\nDecision Modeling Microeconomic Analysis\\n\\nData Visualization User Experience Design\\n\\nSkills\\n\\nProgramming\\n\\nPython, Java, R, HTML, CSS, SQL, Javascript\\nLibraries/Frameworks: Pandas, Scikit-learn,\\nMatplotlib, Seaborn, Numpy, Spark\\n\\nWorkflow\\nExcel, Google Analytics, Tableau, Git,\\nConfluence, Jira, Agile\\n\\nDesign\\nSketch, Figma, InVision, Adobe XD, Axure,\\nAdobe Creative Suite, InDesign, Zeplin\\n\\nAwards\\n\\nFellowship Cohort Winner 2017\\n\\nCal Hacks 4.0\\n\\n1 of 8 teams selected from 1500\\nhackers in Cal Hacks, the world’s largest\\ncollegiate hackathon.\\n\\nReceived $1000 in project funding &\\nmentorship to further develop a\\nconversational language learning app.\\n\\nBest Venture, Best Branding 2016\\nColumbia University Global\\n\\nEntrepreneurship Program\\n\\nInitiated and developed visual branding, user\\ninterface design, target market\\nsegmentation, and competitive analysis for\\nStyle Stop, a public-sourced online clothing\\nrental platform.\\n\\nActivities\\n\\nData Analyst / Upsync Consulting\\nSales pipeline strategy for tech start-up\\n\\nDesign Consultant / Innovative Design\\n\\njacqueline.angelina@berkeley.edu\\ngithub.com/jacquelineangelina\\nlinkedin.com/in/jacquelineangelina\\n\\nWork Experience\\n\\nSummer 2019\\nSan Francisco, CA\\n\\nProduct Analytics Intern\\nRevive Solutions, Inc.\\n\\nValidated a new market segment by cleaning and analyzing 2000+ survey data\\nusing chi squared tests, correlation matrices & sentiment analysis with Python\\n\\nDecreased customer onboarding time by 40% through initiating automation in\\nmigrating and cleaning customer data for CRM integration\\n\\nBuilt information architecture for data management for world’s first AED fleet\\nmanagement platform, drove ideation & research for pilot loyalty program\\n\\nDeveloped Tableau dashboards for post campaign analytics, KPls, SEO\\n\\nData Science Research Intern\\nMercy Corps\\n\\nSept 2019 - Present\\nSan Francisco, CA\\n\\nUse remote sensing & machine learning to map the lifecycle of Maize varieties,\\nmonitor crop growth under different environmental conditions, and measure\\nindicators of health for smallholder crops in Sub-Saharan Africa\\n\\nModule Developer\\nBerkeley Division of Data Science & Information\\n\\nSept 2019 - Present\\nSan Francisco, CA\\n\\nDevelop an automated resume bot using Python, NLP and Jupyter notebook for\\nstudents in UC Berkeley’s Masters of Engineering program\\n\\nSummer 2018\\nJakarta, Indonesia\\n\\nProduct Management Intern\\nBizzy Indonesia\\n\\nShipped and conducted end to end redesign and A/B testing of vendor\\nverification tools for internal use - increasing vendor verification rate by 30%\\n\\nDefined product specifications and KPls through competitive landscaping,\\ncurrent product analysis, UX research and user acceptance testing\\n\\nLed Agile product development sprints, managed product roadmap, user stories\\n\\nVP of Creative Management & Documentation\\nBerkeley Indonesia Student Association\\n\\nMay 2018 - May 2019\\nBerkeley, CA\\n\\nSpearhead the club’s marketing strategy — led production of promotional\\nmaterial for Nusantara, Bay Area’s largest Indonesian cultural festival.\\nIncreased merchandise revenue by 60%.\\n\\nProjects\\nSpam Email Classifier Mar 2019\\nLogistic Regression, Feature Engineering Berkeley, CA\\n\\nDeveloped a 92% accurate classifier to identify soam emails. Used exploratory\\ndata analysis and visualization to select features, fit models with Scikit-learn for\\nclassification, validated model and analyzed precision-recall curves\\n\\nDeveloped with Scikit-learn, Pandas, Seaborn, Matplotlib in Jupyter Notebook\\n\\nNov 2018\\nBerkeley, CA\\n\\nThe Game of Amazons\\nGame Design, Algorithms, Java System Complexity\\n\\nBuilt a chess-inspired board game using Al (Minimax algorithm, optimized with\\nalpha-beta pruning). Composed console commands for game control,\\nimplemented a GUI interpretting commands into interactive 2D chessboard\\nDeveloped with Java on Intellid, JUnit tests',\n",
       " 'projects': '\\nSpam Email Classifier Mar 2019\\nLogistic Regression, Feature Engineering Berkeley, CA\\n\\nDeveloped a 92% accurate classifier to identify soam emails. Used exploratory\\ndata analysis and visualization to select features, fit models with Scikit-learn for\\nclassification, validated model and analyzed precision-recall curves\\n\\nDeveloped with Scikit-learn, Pandas, Seaborn, Matplotlib in Jupyter Notebook\\n\\nNov 2018\\nBerkeley, CA\\n\\nThe Game of Amazons\\nGame Design, Algorithms, Java System Complexity\\n\\nBuilt a chess-inspired board game using Al (Minimax algorithm, optimized with\\nalpha-beta pruning). Composed console commands for game control,\\nimplemented a GUI interpretting commands into interactive 2D chessboard\\nDeveloped with Java on Intellid, JUnit tests',\n",
       " 'skills': '\\n\\nProgramming\\n\\nPython, Java, R, HTML, CSS, SQL, Javascript\\nLibraries/Frameworks: Pandas, Scikit-learn,\\nMatplotlib, Seaborn, Numpy, Spark\\n\\nWorkflow\\nExcel, Google Analytics, Tableau, Git,\\nConfluence, Jira, Agile\\n\\nDesign\\nSketch, Figma, InVision, Adobe XD, Axure,\\nAdobe Creative Suite, InDesign, Zeplin\\n\\n'}"
      ]
     },
     "execution_count": 56,
     "metadata": {},
     "output_type": "execute_result"
    }
   ],
   "source": [
    "section_regexes = {\n",
    "    \"experience\" : r\"(^w?o?r?k? ?experience$)\",\n",
    "    \"education\" : r\"(^education ?a?n?d? ?a?w?a?r?d?s?$)\",\n",
    "    \"skills\" : r\"(^t?e?c?h?n?i?c?a?l? ?skills)\",\n",
    "    \"projects\" : r\"^(projects?)$\",\n",
    "    \"awards\" : r\"^(awards?)$\",\n",
    "    \"activities\" : r\"^(e?x?t?r?a?c?u?r?r?i?c?u?l?a?r? ?activities)$\"\n",
    "}\n",
    "\n",
    "def split_into_sections(resume):\n",
    "    resume = [resume]\n",
    "    sections = {}\n",
    "    sections[\"original\"] = resume[0]\n",
    "    \n",
    "    # split resume on sections in section_regexes\n",
    "    for sec in section_regexes:\n",
    "        splits = []\n",
    "        for subsec in resume:\n",
    "            try:\n",
    "                splits += re.split(section_regexes[sec], subsec, maxsplit=1, flags = re.IGNORECASE | re.MULTILINE)\n",
    "            except TypeError:\n",
    "                pass\n",
    "        resume = splits.copy()\n",
    "    \n",
    "    # create a mapping of these sections\n",
    "#     sections = {}\n",
    "    for sec in section_regexes:\n",
    "        for i in range(len(resume)):\n",
    "            if re.search(section_regexes[sec], resume[i], flags = re.IGNORECASE | re.MULTILINE):\n",
    "                sections[sec] = resume[i+1]\n",
    "        if sec not in sections:\n",
    "            sections[sec] = \"\"\n",
    "\n",
    "    return sections\n",
    "\n",
    "resume_sections = split_into_sections(resume)\n",
    "resume_sections"
   ]
  },
  {
   "cell_type": "markdown",
   "metadata": {},
   "source": [
    "## Generating Resume Scores for Individual Categories Through Matching Keywords"
   ]
  },
  {
   "cell_type": "markdown",
   "metadata": {},
   "source": [
    "To generate a total resume score, we will first calculate scores for individual categories. In this case, we will measure 4 categories: Skills/Buzzwords, Job Titles, Companies, and Education. We will measure a resume's performance in each category based on its ability to match a recruiter's desired qualities, as shown in a recruiter's CSV. \n",
    "\n",
    "First, we will begin by generating an individual score for Buzzwords.\n",
    "\n",
    "Here's an example of a recruiter's CSV containing a column for desired skills, and another column for each skill's respective weights, as each skill is valued differently. "
   ]
  },
  {
   "cell_type": "code",
   "execution_count": 57,
   "metadata": {},
   "outputs": [
    {
     "data": {
      "text/html": [
       "<div>\n",
       "<style scoped>\n",
       "    .dataframe tbody tr th:only-of-type {\n",
       "        vertical-align: middle;\n",
       "    }\n",
       "\n",
       "    .dataframe tbody tr th {\n",
       "        vertical-align: top;\n",
       "    }\n",
       "\n",
       "    .dataframe thead th {\n",
       "        text-align: right;\n",
       "    }\n",
       "</style>\n",
       "<table border=\"1\" class=\"dataframe\">\n",
       "  <thead>\n",
       "    <tr style=\"text-align: right;\">\n",
       "      <th></th>\n",
       "      <th>skill</th>\n",
       "      <th>weight</th>\n",
       "    </tr>\n",
       "  </thead>\n",
       "  <tbody>\n",
       "    <tr>\n",
       "      <th>0</th>\n",
       "      <td>python</td>\n",
       "      <td>2</td>\n",
       "    </tr>\n",
       "    <tr>\n",
       "      <th>1</th>\n",
       "      <td>pandas</td>\n",
       "      <td>2</td>\n",
       "    </tr>\n",
       "    <tr>\n",
       "      <th>2</th>\n",
       "      <td>java</td>\n",
       "      <td>2</td>\n",
       "    </tr>\n",
       "    <tr>\n",
       "      <th>3</th>\n",
       "      <td>r</td>\n",
       "      <td>2</td>\n",
       "    </tr>\n",
       "    <tr>\n",
       "      <th>4</th>\n",
       "      <td>html</td>\n",
       "      <td>1</td>\n",
       "    </tr>\n",
       "    <tr>\n",
       "      <th>5</th>\n",
       "      <td>css</td>\n",
       "      <td>1</td>\n",
       "    </tr>\n",
       "    <tr>\n",
       "      <th>6</th>\n",
       "      <td>sql</td>\n",
       "      <td>2</td>\n",
       "    </tr>\n",
       "    <tr>\n",
       "      <th>7</th>\n",
       "      <td>ruby</td>\n",
       "      <td>1</td>\n",
       "    </tr>\n",
       "    <tr>\n",
       "      <th>8</th>\n",
       "      <td>hadoop</td>\n",
       "      <td>2</td>\n",
       "    </tr>\n",
       "    <tr>\n",
       "      <th>9</th>\n",
       "      <td>spark</td>\n",
       "      <td>2</td>\n",
       "    </tr>\n",
       "    <tr>\n",
       "      <th>10</th>\n",
       "      <td>natural language processing</td>\n",
       "      <td>2</td>\n",
       "    </tr>\n",
       "    <tr>\n",
       "      <th>11</th>\n",
       "      <td>data structures</td>\n",
       "      <td>2</td>\n",
       "    </tr>\n",
       "  </tbody>\n",
       "</table>\n",
       "</div>"
      ],
      "text/plain": [
       "                          skill  weight\n",
       "0                        python       2\n",
       "1                        pandas       2\n",
       "2                          java       2\n",
       "3                             r       2\n",
       "4                          html       1\n",
       "5                           css       1\n",
       "6                           sql       2\n",
       "7                          ruby       1\n",
       "8                        hadoop       2\n",
       "9                        spark        2\n",
       "10  natural language processing       2\n",
       "11              data structures       2"
      ]
     },
     "execution_count": 57,
     "metadata": {},
     "output_type": "execute_result"
    }
   ],
   "source": [
    "recruiter_buzzwords = pd.read_csv(\"skills.csv\") \n",
    "recruiter_buzzwords"
   ]
  },
  {
   "cell_type": "markdown",
   "metadata": {},
   "source": [
    "Next, we create a function to extract matches between the resume and the recruiter's desired list of skills/buzzwords. \n",
    "\n",
    "To do this, we implement word tokenization and break the resume into noun chunks using spacy, then matching the resume contents with the recruiter's CSV. "
   ]
  },
  {
   "cell_type": "code",
   "execution_count": 58,
   "metadata": {},
   "outputs": [],
   "source": [
    "def extract_matches(csv_name, resume_text, column):\n",
    "    nlp_text = nlp(resume_text)\n",
    "\n",
    "    # removing stop words and implementing word tokenization\n",
    "    tokens = [token.text for token in nlp_text if not token.is_stop]\n",
    "    \n",
    "    # reading the csv file\n",
    "    data = pd.read_csv(csv_name) \n",
    "    \n",
    "    # extract values\n",
    "    skills = data[column].tolist()\n",
    "    \n",
    "    skillset = []\n",
    "    \n",
    "    # check for one-grams (example: python)\n",
    "    for token in tokens:\n",
    "        if token.lower() in skills:\n",
    "            skillset.append(token)\n",
    "    \n",
    "    # check for bi-grams and tri-grams (example: machine learning)\n",
    "    for token in nlp_text.noun_chunks:\n",
    "        token = token.text.lower().strip()\n",
    "        if token in skills:\n",
    "            skillset.append(token)\n",
    "    \n",
    "    return [i.capitalize() for i in set([i.lower() for i in skillset])]"
   ]
  },
  {
   "cell_type": "markdown",
   "metadata": {},
   "source": [
    "Here are matching buzzwords between this resume and the recruiter's CSV:"
   ]
  },
  {
   "cell_type": "code",
   "execution_count": 59,
   "metadata": {},
   "outputs": [
    {
     "data": {
      "text/plain": [
       "['Java', 'Html', 'Css', 'Python', 'Sql', 'R', 'Pandas']"
      ]
     },
     "execution_count": 59,
     "metadata": {},
     "output_type": "execute_result"
    }
   ],
   "source": [
    "matching_buzzwords = extract_matches('skills.csv', resume, 'skill')\n",
    "matching_buzzwords"
   ]
  },
  {
   "cell_type": "markdown",
   "metadata": {},
   "source": [
    "Now that we have matching buzzwords, we will calculate a score for the buzzwords category, by summing up the values of matching buzzwords in accordance to their respective weights."
   ]
  },
  {
   "cell_type": "code",
   "execution_count": 60,
   "metadata": {},
   "outputs": [
    {
     "data": {
      "text/plain": [
       "84"
      ]
     },
     "execution_count": 60,
     "metadata": {},
     "output_type": "execute_result"
    }
   ],
   "source": [
    "#Calculate buzzword score by matching buzzwords and their respective weights \n",
    "def individual_score(data, skill_col, weight_col, matching_list):\n",
    "    weights = []\n",
    "    if len(matching_list) > 0: \n",
    "        for i in matching_list:\n",
    "            weight_value = data.loc[data[skill_col] == i.lower()][weight_col].item()\n",
    "            weights.append(weight_value)\n",
    "            score = sum(weights)\n",
    "    else: \n",
    "        score = 0\n",
    "    return(score*len(matching_list))\n",
    "\n",
    "buzzwords_score = individual_score(recruiter_buzzwords, 'skill', 'weight', matching_buzzwords)\n",
    "buzzwords_score"
   ]
  },
  {
   "cell_type": "markdown",
   "metadata": {},
   "source": [
    "Let's repeat the process with the Job Title and Company categories. "
   ]
  },
  {
   "cell_type": "markdown",
   "metadata": {},
   "source": [
    "#### Category: Job Titles"
   ]
  },
  {
   "cell_type": "code",
   "execution_count": 61,
   "metadata": {},
   "outputs": [
    {
     "data": {
      "text/html": [
       "<div>\n",
       "<style scoped>\n",
       "    .dataframe tbody tr th:only-of-type {\n",
       "        vertical-align: middle;\n",
       "    }\n",
       "\n",
       "    .dataframe tbody tr th {\n",
       "        vertical-align: top;\n",
       "    }\n",
       "\n",
       "    .dataframe thead th {\n",
       "        text-align: right;\n",
       "    }\n",
       "</style>\n",
       "<table border=\"1\" class=\"dataframe\">\n",
       "  <thead>\n",
       "    <tr style=\"text-align: right;\">\n",
       "      <th></th>\n",
       "      <th>job_titles</th>\n",
       "      <th>weights</th>\n",
       "    </tr>\n",
       "  </thead>\n",
       "  <tbody>\n",
       "    <tr>\n",
       "      <th>0</th>\n",
       "      <td>product analytics</td>\n",
       "      <td>2</td>\n",
       "    </tr>\n",
       "    <tr>\n",
       "      <th>1</th>\n",
       "      <td>product analyst</td>\n",
       "      <td>1</td>\n",
       "    </tr>\n",
       "    <tr>\n",
       "      <th>2</th>\n",
       "      <td>product management</td>\n",
       "      <td>1</td>\n",
       "    </tr>\n",
       "    <tr>\n",
       "      <th>3</th>\n",
       "      <td>data scientist</td>\n",
       "      <td>3</td>\n",
       "    </tr>\n",
       "    <tr>\n",
       "      <th>4</th>\n",
       "      <td>data analyst</td>\n",
       "      <td>2</td>\n",
       "    </tr>\n",
       "  </tbody>\n",
       "</table>\n",
       "</div>"
      ],
      "text/plain": [
       "           job_titles  weights\n",
       "0   product analytics        2\n",
       "1     product analyst        1\n",
       "2  product management        1\n",
       "3      data scientist        3\n",
       "4        data analyst        2"
      ]
     },
     "execution_count": 61,
     "metadata": {},
     "output_type": "execute_result"
    }
   ],
   "source": [
    "recruiter_job_list = pd.read_csv(\"job list.csv\") \n",
    "recruiter_job_list.head()"
   ]
  },
  {
   "cell_type": "code",
   "execution_count": 62,
   "metadata": {},
   "outputs": [
    {
     "data": {
      "text/plain": [
       "[]"
      ]
     },
     "execution_count": 62,
     "metadata": {},
     "output_type": "execute_result"
    }
   ],
   "source": [
    "matching_job_titles = extract_matches('job list.csv', resume, 'job_titles')\n",
    "matching_job_titles"
   ]
  },
  {
   "cell_type": "code",
   "execution_count": 63,
   "metadata": {},
   "outputs": [
    {
     "data": {
      "text/plain": [
       "0"
      ]
     },
     "execution_count": 63,
     "metadata": {},
     "output_type": "execute_result"
    }
   ],
   "source": [
    "job_title_score = individual_score(recruiter_job_list, 'job_titles', 'weights', matching_job_titles)\n",
    "job_title_score"
   ]
  },
  {
   "cell_type": "markdown",
   "metadata": {},
   "source": [
    "#### Category: Companies"
   ]
  },
  {
   "cell_type": "code",
   "execution_count": 64,
   "metadata": {},
   "outputs": [
    {
     "name": "stderr",
     "output_type": "stream",
     "text": [
      "/Library/Frameworks/Python.framework/Versions/3.6/lib/python3.6/site-packages/IPython/core/interactiveshell.py:2728: DtypeWarning: Columns (0,1,2,3) have mixed types. Specify dtype option on import or set low_memory=False.\n",
      "  interactivity=interactivity, compiler=compiler, result=result)\n"
     ]
    },
    {
     "data": {
      "text/html": [
       "<div>\n",
       "<style scoped>\n",
       "    .dataframe tbody tr th:only-of-type {\n",
       "        vertical-align: middle;\n",
       "    }\n",
       "\n",
       "    .dataframe tbody tr th {\n",
       "        vertical-align: top;\n",
       "    }\n",
       "\n",
       "    .dataframe thead th {\n",
       "        text-align: right;\n",
       "    }\n",
       "</style>\n",
       "<table border=\"1\" class=\"dataframe\">\n",
       "  <thead>\n",
       "    <tr style=\"text-align: right;\">\n",
       "      <th></th>\n",
       "      <th>company_name_id</th>\n",
       "      <th>company_name</th>\n",
       "      <th>url</th>\n",
       "      <th>company_category</th>\n",
       "      <th>weights</th>\n",
       "    </tr>\n",
       "  </thead>\n",
       "  <tbody>\n",
       "    <tr>\n",
       "      <th>0</th>\n",
       "      <td>3-round-stones-inc</td>\n",
       "      <td>3 Round Stones, Inc.</td>\n",
       "      <td>http://3RoundStones.com</td>\n",
       "      <td>Data/Technology</td>\n",
       "      <td>1</td>\n",
       "    </tr>\n",
       "    <tr>\n",
       "      <th>1</th>\n",
       "      <td>48-factoring-inc</td>\n",
       "      <td>48 Factoring Inc.</td>\n",
       "      <td>https://www.48factoring.com</td>\n",
       "      <td>Finance &amp; Investment</td>\n",
       "      <td>1</td>\n",
       "    </tr>\n",
       "    <tr>\n",
       "      <th>2</th>\n",
       "      <td>5psolutions</td>\n",
       "      <td>5PSolutions</td>\n",
       "      <td>www.5psolutions.com</td>\n",
       "      <td>Data/Technology</td>\n",
       "      <td>2</td>\n",
       "    </tr>\n",
       "    <tr>\n",
       "      <th>3</th>\n",
       "      <td>abt-associates</td>\n",
       "      <td>Abt Associates</td>\n",
       "      <td>abtassoc.com</td>\n",
       "      <td>Research &amp; Consulting</td>\n",
       "      <td>2</td>\n",
       "    </tr>\n",
       "    <tr>\n",
       "      <th>4</th>\n",
       "      <td>accela</td>\n",
       "      <td>Accela</td>\n",
       "      <td>http://www.accela.com</td>\n",
       "      <td>Governance</td>\n",
       "      <td>1</td>\n",
       "    </tr>\n",
       "  </tbody>\n",
       "</table>\n",
       "</div>"
      ],
      "text/plain": [
       "      company_name_id          company_name                          url  \\\n",
       "0  3-round-stones-inc  3 Round Stones, Inc.      http://3RoundStones.com   \n",
       "1    48-factoring-inc     48 Factoring Inc.  https://www.48factoring.com   \n",
       "2         5psolutions           5PSolutions          www.5psolutions.com   \n",
       "3      abt-associates        Abt Associates                 abtassoc.com   \n",
       "4              accela                Accela        http://www.accela.com   \n",
       "\n",
       "        company_category  weights  \n",
       "0        Data/Technology        1  \n",
       "1   Finance & Investment        1  \n",
       "2        Data/Technology        2  \n",
       "3  Research & Consulting        2  \n",
       "4             Governance        1  "
      ]
     },
     "execution_count": 64,
     "metadata": {},
     "output_type": "execute_result"
    }
   ],
   "source": [
    "recruiter_companies = pd.read_csv(\"us_companies.csv\") \n",
    "recruiter_companies.head()"
   ]
  },
  {
   "cell_type": "code",
   "execution_count": 65,
   "metadata": {},
   "outputs": [
    {
     "name": "stderr",
     "output_type": "stream",
     "text": [
      "/Library/Frameworks/Python.framework/Versions/3.6/lib/python3.6/site-packages/IPython/core/interactiveshell.py:2850: DtypeWarning: Columns (0,1,2,3) have mixed types. Specify dtype option on import or set low_memory=False.\n",
      "  if self.run_code(code, result):\n"
     ]
    },
    {
     "data": {
      "text/plain": [
       "[]"
      ]
     },
     "execution_count": 65,
     "metadata": {},
     "output_type": "execute_result"
    }
   ],
   "source": [
    "matching_companies = extract_matches('us_companies.csv', resume_sections['experience'], 'company_name')\n",
    "matching_companies"
   ]
  },
  {
   "cell_type": "code",
   "execution_count": 66,
   "metadata": {},
   "outputs": [
    {
     "data": {
      "text/plain": [
       "0"
      ]
     },
     "execution_count": 66,
     "metadata": {},
     "output_type": "execute_result"
    }
   ],
   "source": [
    "company_score = individual_score(recruiter_companies, 'company_name', 'weights', matching_companies)\n",
    "company_score"
   ]
  },
  {
   "cell_type": "markdown",
   "metadata": {},
   "source": [
    "### Another Method: Using Regex to Extract Information"
   ]
  },
  {
   "cell_type": "markdown",
   "metadata": {},
   "source": [
    "In calculating an individual score for our education category, we can also use regex to extract universities of colleges. In this case, we will extract information from the education section of the resume."
   ]
  },
  {
   "cell_type": "code",
   "execution_count": 67,
   "metadata": {},
   "outputs": [
    {
     "data": {
      "text/html": [
       "<div>\n",
       "<style scoped>\n",
       "    .dataframe tbody tr th:only-of-type {\n",
       "        vertical-align: middle;\n",
       "    }\n",
       "\n",
       "    .dataframe tbody tr th {\n",
       "        vertical-align: top;\n",
       "    }\n",
       "\n",
       "    .dataframe thead th {\n",
       "        text-align: right;\n",
       "    }\n",
       "</style>\n",
       "<table border=\"1\" class=\"dataframe\">\n",
       "  <thead>\n",
       "    <tr style=\"text-align: right;\">\n",
       "      <th></th>\n",
       "      <th>university_name</th>\n",
       "      <th>weights</th>\n",
       "    </tr>\n",
       "  </thead>\n",
       "  <tbody>\n",
       "    <tr>\n",
       "      <th>0</th>\n",
       "      <td>University of California, Berkeley</td>\n",
       "      <td>3</td>\n",
       "    </tr>\n",
       "    <tr>\n",
       "      <th>1</th>\n",
       "      <td>University of California, Davis</td>\n",
       "      <td>2</td>\n",
       "    </tr>\n",
       "    <tr>\n",
       "      <th>2</th>\n",
       "      <td>University of California, Los Angeles</td>\n",
       "      <td>3</td>\n",
       "    </tr>\n",
       "    <tr>\n",
       "      <th>3</th>\n",
       "      <td>University of California, Riverside</td>\n",
       "      <td>1</td>\n",
       "    </tr>\n",
       "    <tr>\n",
       "      <th>4</th>\n",
       "      <td>University of California, San Diego</td>\n",
       "      <td>2</td>\n",
       "    </tr>\n",
       "  </tbody>\n",
       "</table>\n",
       "</div>"
      ],
      "text/plain": [
       "                         university_name  weights\n",
       "0     University of California, Berkeley        3\n",
       "1        University of California, Davis        2\n",
       "2  University of California, Los Angeles        3\n",
       "3    University of California, Riverside        1\n",
       "4    University of California, San Diego        2"
      ]
     },
     "execution_count": 67,
     "metadata": {},
     "output_type": "execute_result"
    }
   ],
   "source": [
    "recruiter_universities = pd.read_csv(\"universities.csv\") \n",
    "recruiter_universities.head()"
   ]
  },
  {
   "cell_type": "code",
   "execution_count": 68,
   "metadata": {},
   "outputs": [
    {
     "data": {
      "text/plain": [
       "'University of California, Berkeley'"
      ]
     },
     "execution_count": 68,
     "metadata": {},
     "output_type": "execute_result"
    }
   ],
   "source": [
    "university_regex = r\"\\n(.*([Uu]niversity|[Cc]ollege).*)\\n?\"\n",
    "university = re.findall(university_regex, resume_sections['education'])[0][0]\n",
    "university"
   ]
  },
  {
   "cell_type": "markdown",
   "metadata": {},
   "source": [
    "Then, we will score the resume using the same method as applied for previous categories. "
   ]
  },
  {
   "cell_type": "code",
   "execution_count": 69,
   "metadata": {},
   "outputs": [],
   "source": [
    "def university_score(data, data_col, weight_col, university_name):\n",
    "    weights = []\n",
    "    if university_name in data[data_col].tolist():\n",
    "        weight_value = data.loc[data[data_col] == university_name][weight_col].item()\n",
    "        weights.append(weight_value)\n",
    "        score = sum(weights)\n",
    "    else: \n",
    "        score = 0\n",
    "    return score"
   ]
  },
  {
   "cell_type": "code",
   "execution_count": 70,
   "metadata": {},
   "outputs": [
    {
     "data": {
      "text/plain": [
       "3"
      ]
     },
     "execution_count": 70,
     "metadata": {},
     "output_type": "execute_result"
    }
   ],
   "source": [
    "education_score = university_score(recruiter_universities, 'university_name', 'weights', university)\n",
    "education_score"
   ]
  },
  {
   "cell_type": "markdown",
   "metadata": {},
   "source": [
    "## Generating a Total Resume Score"
   ]
  },
  {
   "cell_type": "markdown",
   "metadata": {},
   "source": [
    "Now that we have scores for individual categories, we can generate a total resume score. This can be used for recruiters to compare resumes and guide their hiring process. "
   ]
  },
  {
   "cell_type": "code",
   "execution_count": 71,
   "metadata": {},
   "outputs": [
    {
     "data": {
      "text/plain": [
       "(84, 0, 0, 3)"
      ]
     },
     "execution_count": 71,
     "metadata": {},
     "output_type": "execute_result"
    }
   ],
   "source": [
    "#print all individual section scores\n",
    "buzzwords_score, job_title_score, company_score, education_score"
   ]
  },
  {
   "cell_type": "markdown",
   "metadata": {},
   "source": [
    "We will use a function to calculate a total resume score, weighing each factor by a specified percentage."
   ]
  },
  {
   "cell_type": "code",
   "execution_count": 72,
   "metadata": {},
   "outputs": [],
   "source": [
    "#Calculates resume score by a composite of 4 factors: Buzzwords, Job Title, Education, and Companies\n",
    "#Each factor is weighed respectively by 30%, 30%, 25% and 15%\n",
    "\n",
    "def resume_score(buzzword_score, buzzword_weight, job_score, job_weight, education_score, education_weight, \n",
    "                 company_score, company_weight):\n",
    "    score = buzzword_score*buzzword_weight + job_score*job_weight + education_score*education_weight + company_score*company_weight\n",
    "    return score "
   ]
  },
  {
   "cell_type": "code",
   "execution_count": 73,
   "metadata": {},
   "outputs": [
    {
     "data": {
      "text/plain": [
       "25.95"
      ]
     },
     "execution_count": 73,
     "metadata": {},
     "output_type": "execute_result"
    }
   ],
   "source": [
    "resume_score(buzzwords_score, 0.3, job_title_score, 0.3, education_score, 0.25, company_score, 0.15)"
   ]
  },
  {
   "cell_type": "markdown",
   "metadata": {},
   "source": [
    "Great - we've successfully generated a total resume score!"
   ]
  },
  {
   "cell_type": "markdown",
   "metadata": {},
   "source": [
    "### Scores in Bulk\n",
    "\n",
    "If we want to calculate the scores of our resumes in bulk, we can accomplish this by storing the constituent parts of the resumes in a DataFrame and applying our functions to the corresponding columns. In the cell below, we create just such a DataFrame, using the `glob` function to extract all of the resumes in the `texts` directory."
   ]
  },
  {
   "cell_type": "code",
   "execution_count": 74,
   "metadata": {},
   "outputs": [
    {
     "data": {
      "text/plain": [
       "['texts/Alec_Resume.txt',\n",
       " 'texts/Chris_Pyles_Resume.txt',\n",
       " 'texts/Jacqueline Angelina_Resume_Sept2019.txt']"
      ]
     },
     "execution_count": 74,
     "metadata": {},
     "output_type": "execute_result"
    }
   ],
   "source": [
    "resume_files = glob(\"texts/*.txt\")\n",
    "resume_files"
   ]
  },
  {
   "cell_type": "markdown",
   "metadata": {},
   "source": [
    "To put these into a DataFrame, we first need to split them into sections. For this, we will use our `split_into_sections` function from above and Python's `map` function to map it to the list of resumes."
   ]
  },
  {
   "cell_type": "code",
   "execution_count": 75,
   "metadata": {},
   "outputs": [
    {
     "data": {
      "text/html": [
       "<div>\n",
       "<style scoped>\n",
       "    .dataframe tbody tr th:only-of-type {\n",
       "        vertical-align: middle;\n",
       "    }\n",
       "\n",
       "    .dataframe tbody tr th {\n",
       "        vertical-align: top;\n",
       "    }\n",
       "\n",
       "    .dataframe thead th {\n",
       "        text-align: right;\n",
       "    }\n",
       "</style>\n",
       "<table border=\"1\" class=\"dataframe\">\n",
       "  <thead>\n",
       "    <tr style=\"text-align: right;\">\n",
       "      <th></th>\n",
       "      <th>activities</th>\n",
       "      <th>awards</th>\n",
       "      <th>education</th>\n",
       "      <th>experience</th>\n",
       "      <th>original</th>\n",
       "      <th>projects</th>\n",
       "      <th>skills</th>\n",
       "    </tr>\n",
       "  </thead>\n",
       "  <tbody>\n",
       "    <tr>\n",
       "      <th>0</th>\n",
       "      <td></td>\n",
       "      <td></td>\n",
       "      <td>\\n\\nUniversity of California, Berkeley / BA St...</td>\n",
       "      <td>\\n\\nSusquehanna International Group / Trading ...</td>\n",
       "      <td>Alexander Kan 1888 Berkeley Way #505 Berkeley,...</td>\n",
       "      <td></td>\n",
       "      <td>HONORS\\nProgramming Languages - Python (Panda...</td>\n",
       "    </tr>\n",
       "    <tr>\n",
       "      <th>1</th>\n",
       "      <td>\\nConnector Assistant January 2019 - Present\\n...</td>\n",
       "      <td></td>\n",
       "      <td>\\nUniversity of California, Berkeley Anticipat...</td>\n",
       "      <td>\\nSenior Developer May 2019 - Present\\nUC Berk...</td>\n",
       "      <td>CHRISTOPHER PYLES\\n\\nchrispyles.io | (818) 826...</td>\n",
       "      <td>\\nHonors Thesis: DataHub Effectiveness_at UC B...</td>\n",
       "      <td>\\n- Languages and Frameworks: Python, R, Ruby ...</td>\n",
       "    </tr>\n",
       "    <tr>\n",
       "      <th>2</th>\n",
       "      <td>\\n\\nData Analyst / Upsync Consulting\\nSales pi...</td>\n",
       "      <td>\\n\\nFellowship Cohort Winner 2017\\n\\nCal Hacks...</td>\n",
       "      <td>\\nUniversity of California, Berkeley\\n\\nB.A. D...</td>\n",
       "      <td>\\n\\nSummer 2019\\nSan Francisco, CA\\n\\nProduct ...</td>\n",
       "      <td>Jacqueline Angelina\\n\\nEducation\\nUniversity o...</td>\n",
       "      <td>\\nSpam Email Classifier Mar 2019\\nLogistic Reg...</td>\n",
       "      <td>\\n\\nProgramming\\n\\nPython, Java, R, HTML, CSS,...</td>\n",
       "    </tr>\n",
       "  </tbody>\n",
       "</table>\n",
       "</div>"
      ],
      "text/plain": [
       "                                          activities  \\\n",
       "0                                                      \n",
       "1  \\nConnector Assistant January 2019 - Present\\n...   \n",
       "2  \\n\\nData Analyst / Upsync Consulting\\nSales pi...   \n",
       "\n",
       "                                              awards  \\\n",
       "0                                                      \n",
       "1                                                      \n",
       "2  \\n\\nFellowship Cohort Winner 2017\\n\\nCal Hacks...   \n",
       "\n",
       "                                           education  \\\n",
       "0  \\n\\nUniversity of California, Berkeley / BA St...   \n",
       "1  \\nUniversity of California, Berkeley Anticipat...   \n",
       "2  \\nUniversity of California, Berkeley\\n\\nB.A. D...   \n",
       "\n",
       "                                          experience  \\\n",
       "0  \\n\\nSusquehanna International Group / Trading ...   \n",
       "1  \\nSenior Developer May 2019 - Present\\nUC Berk...   \n",
       "2  \\n\\nSummer 2019\\nSan Francisco, CA\\n\\nProduct ...   \n",
       "\n",
       "                                            original  \\\n",
       "0  Alexander Kan 1888 Berkeley Way #505 Berkeley,...   \n",
       "1  CHRISTOPHER PYLES\\n\\nchrispyles.io | (818) 826...   \n",
       "2  Jacqueline Angelina\\n\\nEducation\\nUniversity o...   \n",
       "\n",
       "                                            projects  \\\n",
       "0                                                      \n",
       "1  \\nHonors Thesis: DataHub Effectiveness_at UC B...   \n",
       "2  \\nSpam Email Classifier Mar 2019\\nLogistic Reg...   \n",
       "\n",
       "                                              skills  \n",
       "0   HONORS\\nProgramming Languages - Python (Panda...  \n",
       "1  \\n- Languages and Frameworks: Python, R, Ruby ...  \n",
       "2  \\n\\nProgramming\\n\\nPython, Java, R, HTML, CSS,...  "
      ]
     },
     "execution_count": 75,
     "metadata": {},
     "output_type": "execute_result"
    }
   ],
   "source": [
    "# read in all the txt files\n",
    "resume_texts = []\n",
    "for resume in resume_files:\n",
    "    with open(resume) as f:\n",
    "        resume_texts += [f.read()]\n",
    "        \n",
    "# apply our function to the resume_texts list\n",
    "sections = list(map(split_into_sections, resume_texts))\n",
    "\n",
    "# create a DataFrame\n",
    "resumes = pd.DataFrame(sections)\n",
    "resumes.head()"
   ]
  },
  {
   "cell_type": "markdown",
   "metadata": {},
   "source": [
    "Now let's apply our functions from above to the columns of our DataFrame to generate the scores we will use. Recall that we can apply a function to a pandas `Series` using [`pd.Series.apply`](https://pandas.pydata.org/pandas-docs/stable/generated/pandas.Series.apply.html)."
   ]
  },
  {
   "cell_type": "code",
   "execution_count": 86,
   "metadata": {},
   "outputs": [
    {
     "data": {
      "text/html": [
       "<div>\n",
       "<style scoped>\n",
       "    .dataframe tbody tr th:only-of-type {\n",
       "        vertical-align: middle;\n",
       "    }\n",
       "\n",
       "    .dataframe tbody tr th {\n",
       "        vertical-align: top;\n",
       "    }\n",
       "\n",
       "    .dataframe thead th {\n",
       "        text-align: right;\n",
       "    }\n",
       "</style>\n",
       "<table border=\"1\" class=\"dataframe\">\n",
       "  <thead>\n",
       "    <tr style=\"text-align: right;\">\n",
       "      <th></th>\n",
       "      <th>activities</th>\n",
       "      <th>awards</th>\n",
       "      <th>education</th>\n",
       "      <th>experience</th>\n",
       "      <th>original</th>\n",
       "      <th>projects</th>\n",
       "      <th>skills</th>\n",
       "      <th>matches</th>\n",
       "      <th>buzzwords_score</th>\n",
       "      <th>job_titles</th>\n",
       "      <th>jobs_score</th>\n",
       "    </tr>\n",
       "  </thead>\n",
       "  <tbody>\n",
       "    <tr>\n",
       "      <th>0</th>\n",
       "      <td></td>\n",
       "      <td></td>\n",
       "      <td>\\n\\nUniversity of California, Berkeley / BA St...</td>\n",
       "      <td>\\n\\nSusquehanna International Group / Trading ...</td>\n",
       "      <td>Alexander Kan 1888 Berkeley Way #505 Berkeley,...</td>\n",
       "      <td></td>\n",
       "      <td>HONORS\\nProgramming Languages - Python (Panda...</td>\n",
       "      <td>[Data structures, Java, Html, Python, Css, Sql...</td>\n",
       "      <td>112</td>\n",
       "      <td>[]</td>\n",
       "      <td>0</td>\n",
       "    </tr>\n",
       "    <tr>\n",
       "      <th>1</th>\n",
       "      <td>\\nConnector Assistant January 2019 - Present\\n...</td>\n",
       "      <td></td>\n",
       "      <td>\\nUniversity of California, Berkeley Anticipat...</td>\n",
       "      <td>\\nSenior Developer May 2019 - Present\\nUC Berk...</td>\n",
       "      <td>CHRISTOPHER PYLES\\n\\nchrispyles.io | (818) 826...</td>\n",
       "      <td>\\nHonors Thesis: DataHub Effectiveness_at UC B...</td>\n",
       "      <td>\\n- Languages and Frameworks: Python, R, Ruby ...</td>\n",
       "      <td>[Python, Ruby, Data structures, R]</td>\n",
       "      <td>28</td>\n",
       "      <td>[]</td>\n",
       "      <td>0</td>\n",
       "    </tr>\n",
       "    <tr>\n",
       "      <th>2</th>\n",
       "      <td>\\n\\nData Analyst / Upsync Consulting\\nSales pi...</td>\n",
       "      <td>\\n\\nFellowship Cohort Winner 2017\\n\\nCal Hacks...</td>\n",
       "      <td>\\nUniversity of California, Berkeley\\n\\nB.A. D...</td>\n",
       "      <td>\\n\\nSummer 2019\\nSan Francisco, CA\\n\\nProduct ...</td>\n",
       "      <td>Jacqueline Angelina\\n\\nEducation\\nUniversity o...</td>\n",
       "      <td>\\nSpam Email Classifier Mar 2019\\nLogistic Reg...</td>\n",
       "      <td>\\n\\nProgramming\\n\\nPython, Java, R, HTML, CSS,...</td>\n",
       "      <td>[Java, Html, Css, Python, Sql, R, Pandas]</td>\n",
       "      <td>84</td>\n",
       "      <td>[]</td>\n",
       "      <td>0</td>\n",
       "    </tr>\n",
       "  </tbody>\n",
       "</table>\n",
       "</div>"
      ],
      "text/plain": [
       "                                          activities  \\\n",
       "0                                                      \n",
       "1  \\nConnector Assistant January 2019 - Present\\n...   \n",
       "2  \\n\\nData Analyst / Upsync Consulting\\nSales pi...   \n",
       "\n",
       "                                              awards  \\\n",
       "0                                                      \n",
       "1                                                      \n",
       "2  \\n\\nFellowship Cohort Winner 2017\\n\\nCal Hacks...   \n",
       "\n",
       "                                           education  \\\n",
       "0  \\n\\nUniversity of California, Berkeley / BA St...   \n",
       "1  \\nUniversity of California, Berkeley Anticipat...   \n",
       "2  \\nUniversity of California, Berkeley\\n\\nB.A. D...   \n",
       "\n",
       "                                          experience  \\\n",
       "0  \\n\\nSusquehanna International Group / Trading ...   \n",
       "1  \\nSenior Developer May 2019 - Present\\nUC Berk...   \n",
       "2  \\n\\nSummer 2019\\nSan Francisco, CA\\n\\nProduct ...   \n",
       "\n",
       "                                            original  \\\n",
       "0  Alexander Kan 1888 Berkeley Way #505 Berkeley,...   \n",
       "1  CHRISTOPHER PYLES\\n\\nchrispyles.io | (818) 826...   \n",
       "2  Jacqueline Angelina\\n\\nEducation\\nUniversity o...   \n",
       "\n",
       "                                            projects  \\\n",
       "0                                                      \n",
       "1  \\nHonors Thesis: DataHub Effectiveness_at UC B...   \n",
       "2  \\nSpam Email Classifier Mar 2019\\nLogistic Reg...   \n",
       "\n",
       "                                              skills  \\\n",
       "0   HONORS\\nProgramming Languages - Python (Panda...   \n",
       "1  \\n- Languages and Frameworks: Python, R, Ruby ...   \n",
       "2  \\n\\nProgramming\\n\\nPython, Java, R, HTML, CSS,...   \n",
       "\n",
       "                                             matches  buzzwords_score  \\\n",
       "0  [Data structures, Java, Html, Python, Css, Sql...              112   \n",
       "1                 [Python, Ruby, Data structures, R]               28   \n",
       "2          [Java, Html, Css, Python, Sql, R, Pandas]               84   \n",
       "\n",
       "  job_titles  jobs_score  \n",
       "0         []           0  \n",
       "1         []           0  \n",
       "2         []           0  "
      ]
     },
     "execution_count": 86,
     "metadata": {},
     "output_type": "execute_result"
    }
   ],
   "source": [
    "# extract buzzword matches and calculate score\n",
    "resumes[\"matches\"] = resumes[\"original\"].apply(lambda r: extract_matches('skills.csv', r, 'skill'))\n",
    "resumes[\"buzzwords_score\"] = resumes[\"matches\"].apply(\n",
    "    lambda m: individual_score(recruiter_buzzwords, 'skill', 'weight', m)\n",
    ")\n",
    "resumes.head()"
   ]
  },
  {
   "cell_type": "code",
   "execution_count": 87,
   "metadata": {},
   "outputs": [
    {
     "data": {
      "text/html": [
       "<div>\n",
       "<style scoped>\n",
       "    .dataframe tbody tr th:only-of-type {\n",
       "        vertical-align: middle;\n",
       "    }\n",
       "\n",
       "    .dataframe tbody tr th {\n",
       "        vertical-align: top;\n",
       "    }\n",
       "\n",
       "    .dataframe thead th {\n",
       "        text-align: right;\n",
       "    }\n",
       "</style>\n",
       "<table border=\"1\" class=\"dataframe\">\n",
       "  <thead>\n",
       "    <tr style=\"text-align: right;\">\n",
       "      <th></th>\n",
       "      <th>activities</th>\n",
       "      <th>awards</th>\n",
       "      <th>education</th>\n",
       "      <th>experience</th>\n",
       "      <th>original</th>\n",
       "      <th>projects</th>\n",
       "      <th>skills</th>\n",
       "      <th>matches</th>\n",
       "      <th>buzzwords_score</th>\n",
       "      <th>job_titles</th>\n",
       "      <th>jobs_score</th>\n",
       "    </tr>\n",
       "  </thead>\n",
       "  <tbody>\n",
       "    <tr>\n",
       "      <th>0</th>\n",
       "      <td></td>\n",
       "      <td></td>\n",
       "      <td>\\n\\nUniversity of California, Berkeley / BA St...</td>\n",
       "      <td>\\n\\nSusquehanna International Group / Trading ...</td>\n",
       "      <td>Alexander Kan 1888 Berkeley Way #505 Berkeley,...</td>\n",
       "      <td></td>\n",
       "      <td>HONORS\\nProgramming Languages - Python (Panda...</td>\n",
       "      <td>[Data structures, Java, Html, Python, Css, Sql...</td>\n",
       "      <td>112</td>\n",
       "      <td>[]</td>\n",
       "      <td>0</td>\n",
       "    </tr>\n",
       "    <tr>\n",
       "      <th>1</th>\n",
       "      <td>\\nConnector Assistant January 2019 - Present\\n...</td>\n",
       "      <td></td>\n",
       "      <td>\\nUniversity of California, Berkeley Anticipat...</td>\n",
       "      <td>\\nSenior Developer May 2019 - Present\\nUC Berk...</td>\n",
       "      <td>CHRISTOPHER PYLES\\n\\nchrispyles.io | (818) 826...</td>\n",
       "      <td>\\nHonors Thesis: DataHub Effectiveness_at UC B...</td>\n",
       "      <td>\\n- Languages and Frameworks: Python, R, Ruby ...</td>\n",
       "      <td>[Python, Ruby, Data structures, R]</td>\n",
       "      <td>28</td>\n",
       "      <td>[]</td>\n",
       "      <td>0</td>\n",
       "    </tr>\n",
       "    <tr>\n",
       "      <th>2</th>\n",
       "      <td>\\n\\nData Analyst / Upsync Consulting\\nSales pi...</td>\n",
       "      <td>\\n\\nFellowship Cohort Winner 2017\\n\\nCal Hacks...</td>\n",
       "      <td>\\nUniversity of California, Berkeley\\n\\nB.A. D...</td>\n",
       "      <td>\\n\\nSummer 2019\\nSan Francisco, CA\\n\\nProduct ...</td>\n",
       "      <td>Jacqueline Angelina\\n\\nEducation\\nUniversity o...</td>\n",
       "      <td>\\nSpam Email Classifier Mar 2019\\nLogistic Reg...</td>\n",
       "      <td>\\n\\nProgramming\\n\\nPython, Java, R, HTML, CSS,...</td>\n",
       "      <td>[Java, Html, Css, Python, Sql, R, Pandas]</td>\n",
       "      <td>84</td>\n",
       "      <td>[]</td>\n",
       "      <td>0</td>\n",
       "    </tr>\n",
       "  </tbody>\n",
       "</table>\n",
       "</div>"
      ],
      "text/plain": [
       "                                          activities  \\\n",
       "0                                                      \n",
       "1  \\nConnector Assistant January 2019 - Present\\n...   \n",
       "2  \\n\\nData Analyst / Upsync Consulting\\nSales pi...   \n",
       "\n",
       "                                              awards  \\\n",
       "0                                                      \n",
       "1                                                      \n",
       "2  \\n\\nFellowship Cohort Winner 2017\\n\\nCal Hacks...   \n",
       "\n",
       "                                           education  \\\n",
       "0  \\n\\nUniversity of California, Berkeley / BA St...   \n",
       "1  \\nUniversity of California, Berkeley Anticipat...   \n",
       "2  \\nUniversity of California, Berkeley\\n\\nB.A. D...   \n",
       "\n",
       "                                          experience  \\\n",
       "0  \\n\\nSusquehanna International Group / Trading ...   \n",
       "1  \\nSenior Developer May 2019 - Present\\nUC Berk...   \n",
       "2  \\n\\nSummer 2019\\nSan Francisco, CA\\n\\nProduct ...   \n",
       "\n",
       "                                            original  \\\n",
       "0  Alexander Kan 1888 Berkeley Way #505 Berkeley,...   \n",
       "1  CHRISTOPHER PYLES\\n\\nchrispyles.io | (818) 826...   \n",
       "2  Jacqueline Angelina\\n\\nEducation\\nUniversity o...   \n",
       "\n",
       "                                            projects  \\\n",
       "0                                                      \n",
       "1  \\nHonors Thesis: DataHub Effectiveness_at UC B...   \n",
       "2  \\nSpam Email Classifier Mar 2019\\nLogistic Reg...   \n",
       "\n",
       "                                              skills  \\\n",
       "0   HONORS\\nProgramming Languages - Python (Panda...   \n",
       "1  \\n- Languages and Frameworks: Python, R, Ruby ...   \n",
       "2  \\n\\nProgramming\\n\\nPython, Java, R, HTML, CSS,...   \n",
       "\n",
       "                                             matches  buzzwords_score  \\\n",
       "0  [Data structures, Java, Html, Python, Css, Sql...              112   \n",
       "1                 [Python, Ruby, Data structures, R]               28   \n",
       "2          [Java, Html, Css, Python, Sql, R, Pandas]               84   \n",
       "\n",
       "  job_titles  jobs_score  \n",
       "0         []           0  \n",
       "1         []           0  \n",
       "2         []           0  "
      ]
     },
     "execution_count": 87,
     "metadata": {},
     "output_type": "execute_result"
    }
   ],
   "source": [
    "# job titles\n",
    "resumes[\"job_titles\"] = resumes[\"original\"].apply(lambda r: extract_matches('job list.csv', r, 'job_titles'))\n",
    "resumes[\"jobs_score\"] = resumes[\"job_titles\"].apply(\n",
    "    lambda m: individual_score(recruiter_job_list, 'job_titles', 'weights', m)\n",
    ")\n",
    "resumes.head()"
   ]
  },
  {
   "cell_type": "code",
   "execution_count": 88,
   "metadata": {},
   "outputs": [
    {
     "name": "stderr",
     "output_type": "stream",
     "text": [
      "/Library/Frameworks/Python.framework/Versions/3.6/lib/python3.6/site-packages/ipykernel_launcher.py:3: DtypeWarning: Columns (0,1,2,3) have mixed types. Specify dtype option on import or set low_memory=False.\n",
      "  This is separate from the ipykernel package so we can avoid doing imports until\n"
     ]
    },
    {
     "data": {
      "text/html": [
       "<div>\n",
       "<style scoped>\n",
       "    .dataframe tbody tr th:only-of-type {\n",
       "        vertical-align: middle;\n",
       "    }\n",
       "\n",
       "    .dataframe tbody tr th {\n",
       "        vertical-align: top;\n",
       "    }\n",
       "\n",
       "    .dataframe thead th {\n",
       "        text-align: right;\n",
       "    }\n",
       "</style>\n",
       "<table border=\"1\" class=\"dataframe\">\n",
       "  <thead>\n",
       "    <tr style=\"text-align: right;\">\n",
       "      <th></th>\n",
       "      <th>activities</th>\n",
       "      <th>awards</th>\n",
       "      <th>education</th>\n",
       "      <th>experience</th>\n",
       "      <th>original</th>\n",
       "      <th>projects</th>\n",
       "      <th>skills</th>\n",
       "      <th>matches</th>\n",
       "      <th>buzzwords_score</th>\n",
       "      <th>job_titles</th>\n",
       "      <th>jobs_score</th>\n",
       "      <th>companies</th>\n",
       "      <th>companies_score</th>\n",
       "    </tr>\n",
       "  </thead>\n",
       "  <tbody>\n",
       "    <tr>\n",
       "      <th>0</th>\n",
       "      <td></td>\n",
       "      <td></td>\n",
       "      <td>\\n\\nUniversity of California, Berkeley / BA St...</td>\n",
       "      <td>\\n\\nSusquehanna International Group / Trading ...</td>\n",
       "      <td>Alexander Kan 1888 Berkeley Way #505 Berkeley,...</td>\n",
       "      <td></td>\n",
       "      <td>HONORS\\nProgramming Languages - Python (Panda...</td>\n",
       "      <td>[Data structures, Java, Html, Python, Css, Sql...</td>\n",
       "      <td>112</td>\n",
       "      <td>[]</td>\n",
       "      <td>0</td>\n",
       "      <td>[]</td>\n",
       "      <td>0</td>\n",
       "    </tr>\n",
       "    <tr>\n",
       "      <th>1</th>\n",
       "      <td>\\nConnector Assistant January 2019 - Present\\n...</td>\n",
       "      <td></td>\n",
       "      <td>\\nUniversity of California, Berkeley Anticipat...</td>\n",
       "      <td>\\nSenior Developer May 2019 - Present\\nUC Berk...</td>\n",
       "      <td>CHRISTOPHER PYLES\\n\\nchrispyles.io | (818) 826...</td>\n",
       "      <td>\\nHonors Thesis: DataHub Effectiveness_at UC B...</td>\n",
       "      <td>\\n- Languages and Frameworks: Python, R, Ruby ...</td>\n",
       "      <td>[Python, Ruby, Data structures, R]</td>\n",
       "      <td>28</td>\n",
       "      <td>[]</td>\n",
       "      <td>0</td>\n",
       "      <td>[]</td>\n",
       "      <td>0</td>\n",
       "    </tr>\n",
       "    <tr>\n",
       "      <th>2</th>\n",
       "      <td>\\n\\nData Analyst / Upsync Consulting\\nSales pi...</td>\n",
       "      <td>\\n\\nFellowship Cohort Winner 2017\\n\\nCal Hacks...</td>\n",
       "      <td>\\nUniversity of California, Berkeley\\n\\nB.A. D...</td>\n",
       "      <td>\\n\\nSummer 2019\\nSan Francisco, CA\\n\\nProduct ...</td>\n",
       "      <td>Jacqueline Angelina\\n\\nEducation\\nUniversity o...</td>\n",
       "      <td>\\nSpam Email Classifier Mar 2019\\nLogistic Reg...</td>\n",
       "      <td>\\n\\nProgramming\\n\\nPython, Java, R, HTML, CSS,...</td>\n",
       "      <td>[Java, Html, Css, Python, Sql, R, Pandas]</td>\n",
       "      <td>84</td>\n",
       "      <td>[]</td>\n",
       "      <td>0</td>\n",
       "      <td>[]</td>\n",
       "      <td>0</td>\n",
       "    </tr>\n",
       "  </tbody>\n",
       "</table>\n",
       "</div>"
      ],
      "text/plain": [
       "                                          activities  \\\n",
       "0                                                      \n",
       "1  \\nConnector Assistant January 2019 - Present\\n...   \n",
       "2  \\n\\nData Analyst / Upsync Consulting\\nSales pi...   \n",
       "\n",
       "                                              awards  \\\n",
       "0                                                      \n",
       "1                                                      \n",
       "2  \\n\\nFellowship Cohort Winner 2017\\n\\nCal Hacks...   \n",
       "\n",
       "                                           education  \\\n",
       "0  \\n\\nUniversity of California, Berkeley / BA St...   \n",
       "1  \\nUniversity of California, Berkeley Anticipat...   \n",
       "2  \\nUniversity of California, Berkeley\\n\\nB.A. D...   \n",
       "\n",
       "                                          experience  \\\n",
       "0  \\n\\nSusquehanna International Group / Trading ...   \n",
       "1  \\nSenior Developer May 2019 - Present\\nUC Berk...   \n",
       "2  \\n\\nSummer 2019\\nSan Francisco, CA\\n\\nProduct ...   \n",
       "\n",
       "                                            original  \\\n",
       "0  Alexander Kan 1888 Berkeley Way #505 Berkeley,...   \n",
       "1  CHRISTOPHER PYLES\\n\\nchrispyles.io | (818) 826...   \n",
       "2  Jacqueline Angelina\\n\\nEducation\\nUniversity o...   \n",
       "\n",
       "                                            projects  \\\n",
       "0                                                      \n",
       "1  \\nHonors Thesis: DataHub Effectiveness_at UC B...   \n",
       "2  \\nSpam Email Classifier Mar 2019\\nLogistic Reg...   \n",
       "\n",
       "                                              skills  \\\n",
       "0   HONORS\\nProgramming Languages - Python (Panda...   \n",
       "1  \\n- Languages and Frameworks: Python, R, Ruby ...   \n",
       "2  \\n\\nProgramming\\n\\nPython, Java, R, HTML, CSS,...   \n",
       "\n",
       "                                             matches  buzzwords_score  \\\n",
       "0  [Data structures, Java, Html, Python, Css, Sql...              112   \n",
       "1                 [Python, Ruby, Data structures, R]               28   \n",
       "2          [Java, Html, Css, Python, Sql, R, Pandas]               84   \n",
       "\n",
       "  job_titles  jobs_score companies  companies_score  \n",
       "0         []           0        []                0  \n",
       "1         []           0        []                0  \n",
       "2         []           0        []                0  "
      ]
     },
     "execution_count": 88,
     "metadata": {},
     "output_type": "execute_result"
    }
   ],
   "source": [
    "# companies\n",
    "resumes[\"companies\"] = resumes[\"experience\"].apply(\n",
    "    lambda r: extract_matches('us_companies.csv', r, 'company_name')\n",
    ")\n",
    "resumes[\"companies_score\"] = resumes[\"companies\"].apply(\n",
    "    lambda m: individual_score(recruiter_companies, 'company_name', 'weights', m)\n",
    ")\n",
    "resumes.head()"
   ]
  },
  {
   "cell_type": "code",
   "execution_count": 89,
   "metadata": {},
   "outputs": [
    {
     "data": {
      "text/html": [
       "<div>\n",
       "<style scoped>\n",
       "    .dataframe tbody tr th:only-of-type {\n",
       "        vertical-align: middle;\n",
       "    }\n",
       "\n",
       "    .dataframe tbody tr th {\n",
       "        vertical-align: top;\n",
       "    }\n",
       "\n",
       "    .dataframe thead th {\n",
       "        text-align: right;\n",
       "    }\n",
       "</style>\n",
       "<table border=\"1\" class=\"dataframe\">\n",
       "  <thead>\n",
       "    <tr style=\"text-align: right;\">\n",
       "      <th></th>\n",
       "      <th>activities</th>\n",
       "      <th>awards</th>\n",
       "      <th>education</th>\n",
       "      <th>experience</th>\n",
       "      <th>original</th>\n",
       "      <th>projects</th>\n",
       "      <th>skills</th>\n",
       "      <th>matches</th>\n",
       "      <th>buzzwords_score</th>\n",
       "      <th>job_titles</th>\n",
       "      <th>jobs_score</th>\n",
       "      <th>companies</th>\n",
       "      <th>companies_score</th>\n",
       "      <th>university</th>\n",
       "      <th>university_score</th>\n",
       "    </tr>\n",
       "  </thead>\n",
       "  <tbody>\n",
       "    <tr>\n",
       "      <th>0</th>\n",
       "      <td></td>\n",
       "      <td></td>\n",
       "      <td>\\n\\nUniversity of California, Berkeley / BA St...</td>\n",
       "      <td>\\n\\nSusquehanna International Group / Trading ...</td>\n",
       "      <td>Alexander Kan 1888 Berkeley Way #505 Berkeley,...</td>\n",
       "      <td></td>\n",
       "      <td>HONORS\\nProgramming Languages - Python (Panda...</td>\n",
       "      <td>[Data structures, Java, Html, Python, Css, Sql...</td>\n",
       "      <td>112</td>\n",
       "      <td>[]</td>\n",
       "      <td>0</td>\n",
       "      <td>[]</td>\n",
       "      <td>0</td>\n",
       "      <td>University of California, Berkeley / BA Statis...</td>\n",
       "      <td>0</td>\n",
       "    </tr>\n",
       "    <tr>\n",
       "      <th>1</th>\n",
       "      <td>\\nConnector Assistant January 2019 - Present\\n...</td>\n",
       "      <td></td>\n",
       "      <td>\\nUniversity of California, Berkeley Anticipat...</td>\n",
       "      <td>\\nSenior Developer May 2019 - Present\\nUC Berk...</td>\n",
       "      <td>CHRISTOPHER PYLES\\n\\nchrispyles.io | (818) 826...</td>\n",
       "      <td>\\nHonors Thesis: DataHub Effectiveness_at UC B...</td>\n",
       "      <td>\\n- Languages and Frameworks: Python, R, Ruby ...</td>\n",
       "      <td>[Python, Ruby, Data structures, R]</td>\n",
       "      <td>28</td>\n",
       "      <td>[]</td>\n",
       "      <td>0</td>\n",
       "      <td>[]</td>\n",
       "      <td>0</td>\n",
       "      <td>University of California, Berkeley Anticipated...</td>\n",
       "      <td>0</td>\n",
       "    </tr>\n",
       "    <tr>\n",
       "      <th>2</th>\n",
       "      <td>\\n\\nData Analyst / Upsync Consulting\\nSales pi...</td>\n",
       "      <td>\\n\\nFellowship Cohort Winner 2017\\n\\nCal Hacks...</td>\n",
       "      <td>\\nUniversity of California, Berkeley\\n\\nB.A. D...</td>\n",
       "      <td>\\n\\nSummer 2019\\nSan Francisco, CA\\n\\nProduct ...</td>\n",
       "      <td>Jacqueline Angelina\\n\\nEducation\\nUniversity o...</td>\n",
       "      <td>\\nSpam Email Classifier Mar 2019\\nLogistic Reg...</td>\n",
       "      <td>\\n\\nProgramming\\n\\nPython, Java, R, HTML, CSS,...</td>\n",
       "      <td>[Java, Html, Css, Python, Sql, R, Pandas]</td>\n",
       "      <td>84</td>\n",
       "      <td>[]</td>\n",
       "      <td>0</td>\n",
       "      <td>[]</td>\n",
       "      <td>0</td>\n",
       "      <td>University of California, Berkeley</td>\n",
       "      <td>3</td>\n",
       "    </tr>\n",
       "  </tbody>\n",
       "</table>\n",
       "</div>"
      ],
      "text/plain": [
       "                                          activities  \\\n",
       "0                                                      \n",
       "1  \\nConnector Assistant January 2019 - Present\\n...   \n",
       "2  \\n\\nData Analyst / Upsync Consulting\\nSales pi...   \n",
       "\n",
       "                                              awards  \\\n",
       "0                                                      \n",
       "1                                                      \n",
       "2  \\n\\nFellowship Cohort Winner 2017\\n\\nCal Hacks...   \n",
       "\n",
       "                                           education  \\\n",
       "0  \\n\\nUniversity of California, Berkeley / BA St...   \n",
       "1  \\nUniversity of California, Berkeley Anticipat...   \n",
       "2  \\nUniversity of California, Berkeley\\n\\nB.A. D...   \n",
       "\n",
       "                                          experience  \\\n",
       "0  \\n\\nSusquehanna International Group / Trading ...   \n",
       "1  \\nSenior Developer May 2019 - Present\\nUC Berk...   \n",
       "2  \\n\\nSummer 2019\\nSan Francisco, CA\\n\\nProduct ...   \n",
       "\n",
       "                                            original  \\\n",
       "0  Alexander Kan 1888 Berkeley Way #505 Berkeley,...   \n",
       "1  CHRISTOPHER PYLES\\n\\nchrispyles.io | (818) 826...   \n",
       "2  Jacqueline Angelina\\n\\nEducation\\nUniversity o...   \n",
       "\n",
       "                                            projects  \\\n",
       "0                                                      \n",
       "1  \\nHonors Thesis: DataHub Effectiveness_at UC B...   \n",
       "2  \\nSpam Email Classifier Mar 2019\\nLogistic Reg...   \n",
       "\n",
       "                                              skills  \\\n",
       "0   HONORS\\nProgramming Languages - Python (Panda...   \n",
       "1  \\n- Languages and Frameworks: Python, R, Ruby ...   \n",
       "2  \\n\\nProgramming\\n\\nPython, Java, R, HTML, CSS,...   \n",
       "\n",
       "                                             matches  buzzwords_score  \\\n",
       "0  [Data structures, Java, Html, Python, Css, Sql...              112   \n",
       "1                 [Python, Ruby, Data structures, R]               28   \n",
       "2          [Java, Html, Css, Python, Sql, R, Pandas]               84   \n",
       "\n",
       "  job_titles  jobs_score companies  companies_score  \\\n",
       "0         []           0        []                0   \n",
       "1         []           0        []                0   \n",
       "2         []           0        []                0   \n",
       "\n",
       "                                          university  university_score  \n",
       "0  University of California, Berkeley / BA Statis...                 0  \n",
       "1  University of California, Berkeley Anticipated...                 0  \n",
       "2                 University of California, Berkeley                 3  "
      ]
     },
     "execution_count": 89,
     "metadata": {},
     "output_type": "execute_result"
    }
   ],
   "source": [
    "# university\n",
    "resumes[\"university\"] = resumes[\"education\"].apply(\n",
    "    lambda r: re.findall(university_regex, r)[0][0]\n",
    ")\n",
    "resumes[\"university_score\"] = resumes[\"university\"].apply(\n",
    "    lambda m: university_score(recruiter_universities, 'university_name', 'weights', m)\n",
    ")\n",
    "resumes.head()"
   ]
  },
  {
   "cell_type": "markdown",
   "metadata": {},
   "source": [
    "Now that we have all the component scores, let's use our weights to calculate the final resume score for each of these resumes."
   ]
  },
  {
   "cell_type": "code",
   "execution_count": 92,
   "metadata": {},
   "outputs": [
    {
     "data": {
      "text/html": [
       "<div>\n",
       "<style scoped>\n",
       "    .dataframe tbody tr th:only-of-type {\n",
       "        vertical-align: middle;\n",
       "    }\n",
       "\n",
       "    .dataframe tbody tr th {\n",
       "        vertical-align: top;\n",
       "    }\n",
       "\n",
       "    .dataframe thead th {\n",
       "        text-align: right;\n",
       "    }\n",
       "</style>\n",
       "<table border=\"1\" class=\"dataframe\">\n",
       "  <thead>\n",
       "    <tr style=\"text-align: right;\">\n",
       "      <th></th>\n",
       "      <th>activities</th>\n",
       "      <th>awards</th>\n",
       "      <th>education</th>\n",
       "      <th>experience</th>\n",
       "      <th>original</th>\n",
       "      <th>projects</th>\n",
       "      <th>skills</th>\n",
       "      <th>matches</th>\n",
       "      <th>buzzwords_score</th>\n",
       "      <th>job_titles</th>\n",
       "      <th>jobs_score</th>\n",
       "      <th>companies</th>\n",
       "      <th>companies_score</th>\n",
       "      <th>university</th>\n",
       "      <th>university_score</th>\n",
       "      <th>score</th>\n",
       "    </tr>\n",
       "  </thead>\n",
       "  <tbody>\n",
       "    <tr>\n",
       "      <th>0</th>\n",
       "      <td></td>\n",
       "      <td></td>\n",
       "      <td>\\n\\nUniversity of California, Berkeley / BA St...</td>\n",
       "      <td>\\n\\nSusquehanna International Group / Trading ...</td>\n",
       "      <td>Alexander Kan 1888 Berkeley Way #505 Berkeley,...</td>\n",
       "      <td></td>\n",
       "      <td>HONORS\\nProgramming Languages - Python (Panda...</td>\n",
       "      <td>[Data structures, Java, Html, Python, Css, Sql...</td>\n",
       "      <td>112</td>\n",
       "      <td>[]</td>\n",
       "      <td>0</td>\n",
       "      <td>[]</td>\n",
       "      <td>0</td>\n",
       "      <td>University of California, Berkeley / BA Statis...</td>\n",
       "      <td>0</td>\n",
       "      <td>33.60</td>\n",
       "    </tr>\n",
       "    <tr>\n",
       "      <th>1</th>\n",
       "      <td>\\nConnector Assistant January 2019 - Present\\n...</td>\n",
       "      <td></td>\n",
       "      <td>\\nUniversity of California, Berkeley Anticipat...</td>\n",
       "      <td>\\nSenior Developer May 2019 - Present\\nUC Berk...</td>\n",
       "      <td>CHRISTOPHER PYLES\\n\\nchrispyles.io | (818) 826...</td>\n",
       "      <td>\\nHonors Thesis: DataHub Effectiveness_at UC B...</td>\n",
       "      <td>\\n- Languages and Frameworks: Python, R, Ruby ...</td>\n",
       "      <td>[Python, Ruby, Data structures, R]</td>\n",
       "      <td>28</td>\n",
       "      <td>[]</td>\n",
       "      <td>0</td>\n",
       "      <td>[]</td>\n",
       "      <td>0</td>\n",
       "      <td>University of California, Berkeley Anticipated...</td>\n",
       "      <td>0</td>\n",
       "      <td>8.40</td>\n",
       "    </tr>\n",
       "    <tr>\n",
       "      <th>2</th>\n",
       "      <td>\\n\\nData Analyst / Upsync Consulting\\nSales pi...</td>\n",
       "      <td>\\n\\nFellowship Cohort Winner 2017\\n\\nCal Hacks...</td>\n",
       "      <td>\\nUniversity of California, Berkeley\\n\\nB.A. D...</td>\n",
       "      <td>\\n\\nSummer 2019\\nSan Francisco, CA\\n\\nProduct ...</td>\n",
       "      <td>Jacqueline Angelina\\n\\nEducation\\nUniversity o...</td>\n",
       "      <td>\\nSpam Email Classifier Mar 2019\\nLogistic Reg...</td>\n",
       "      <td>\\n\\nProgramming\\n\\nPython, Java, R, HTML, CSS,...</td>\n",
       "      <td>[Java, Html, Css, Python, Sql, R, Pandas]</td>\n",
       "      <td>84</td>\n",
       "      <td>[]</td>\n",
       "      <td>0</td>\n",
       "      <td>[]</td>\n",
       "      <td>0</td>\n",
       "      <td>University of California, Berkeley</td>\n",
       "      <td>3</td>\n",
       "      <td>25.95</td>\n",
       "    </tr>\n",
       "  </tbody>\n",
       "</table>\n",
       "</div>"
      ],
      "text/plain": [
       "                                          activities  \\\n",
       "0                                                      \n",
       "1  \\nConnector Assistant January 2019 - Present\\n...   \n",
       "2  \\n\\nData Analyst / Upsync Consulting\\nSales pi...   \n",
       "\n",
       "                                              awards  \\\n",
       "0                                                      \n",
       "1                                                      \n",
       "2  \\n\\nFellowship Cohort Winner 2017\\n\\nCal Hacks...   \n",
       "\n",
       "                                           education  \\\n",
       "0  \\n\\nUniversity of California, Berkeley / BA St...   \n",
       "1  \\nUniversity of California, Berkeley Anticipat...   \n",
       "2  \\nUniversity of California, Berkeley\\n\\nB.A. D...   \n",
       "\n",
       "                                          experience  \\\n",
       "0  \\n\\nSusquehanna International Group / Trading ...   \n",
       "1  \\nSenior Developer May 2019 - Present\\nUC Berk...   \n",
       "2  \\n\\nSummer 2019\\nSan Francisco, CA\\n\\nProduct ...   \n",
       "\n",
       "                                            original  \\\n",
       "0  Alexander Kan 1888 Berkeley Way #505 Berkeley,...   \n",
       "1  CHRISTOPHER PYLES\\n\\nchrispyles.io | (818) 826...   \n",
       "2  Jacqueline Angelina\\n\\nEducation\\nUniversity o...   \n",
       "\n",
       "                                            projects  \\\n",
       "0                                                      \n",
       "1  \\nHonors Thesis: DataHub Effectiveness_at UC B...   \n",
       "2  \\nSpam Email Classifier Mar 2019\\nLogistic Reg...   \n",
       "\n",
       "                                              skills  \\\n",
       "0   HONORS\\nProgramming Languages - Python (Panda...   \n",
       "1  \\n- Languages and Frameworks: Python, R, Ruby ...   \n",
       "2  \\n\\nProgramming\\n\\nPython, Java, R, HTML, CSS,...   \n",
       "\n",
       "                                             matches  buzzwords_score  \\\n",
       "0  [Data structures, Java, Html, Python, Css, Sql...              112   \n",
       "1                 [Python, Ruby, Data structures, R]               28   \n",
       "2          [Java, Html, Css, Python, Sql, R, Pandas]               84   \n",
       "\n",
       "  job_titles  jobs_score companies  companies_score  \\\n",
       "0         []           0        []                0   \n",
       "1         []           0        []                0   \n",
       "2         []           0        []                0   \n",
       "\n",
       "                                          university  university_score  score  \n",
       "0  University of California, Berkeley / BA Statis...                 0  33.60  \n",
       "1  University of California, Berkeley Anticipated...                 0   8.40  \n",
       "2                 University of California, Berkeley                 3  25.95  "
      ]
     },
     "execution_count": 92,
     "metadata": {},
     "output_type": "execute_result"
    }
   ],
   "source": [
    "resumes[\"score\"] = resumes.apply(\n",
    "    lambda r: resume_score(\n",
    "        r[\"buzzwords_score\"], 0.3, \n",
    "        r[\"jobs_score\"], 0.3, \n",
    "        r[\"university_score\"], 0.25, \n",
    "        r[\"companies_score\"], 0.15\n",
    "    ), axis=1\n",
    ")\n",
    "resumes.head()"
   ]
  },
  {
   "cell_type": "markdown",
   "metadata": {},
   "source": [
    "You should notice that some of the resumes got zeros in different categories even though they have some matches to what we're looking for. Why do you think that might be? What can we do to improve this resume bot to find more matches?"
   ]
  },
  {
   "cell_type": "markdown",
   "metadata": {},
   "source": [
    "_Type your answer here, replacing this text._"
   ]
  },
  {
   "cell_type": "markdown",
   "metadata": {},
   "source": [
    "## Try it Yourself!"
   ]
  },
  {
   "cell_type": "markdown",
   "metadata": {},
   "source": [
    "Recruiters will have different weights for each factor used to calculate our resume score. Using the resume score function, generate a resume score if buzzwords were weighed 30%, job titles by 33%, education by 17%, and companies by 20%. "
   ]
  },
  {
   "cell_type": "code",
   "execution_count": null,
   "metadata": {},
   "outputs": [],
   "source": [
    "resume_score(buzzwords_score, ..., job_title_score, ..., education_score, ..., company_score, ...)"
   ]
  },
  {
   "cell_type": "markdown",
   "metadata": {},
   "source": [
    " "
   ]
  }
 ],
 "metadata": {
  "kernelspec": {
   "display_name": "Python 3",
   "language": "python",
   "name": "python3"
  },
  "language_info": {
   "codemirror_mode": {
    "name": "ipython",
    "version": 3
   },
   "file_extension": ".py",
   "mimetype": "text/x-python",
   "name": "python",
   "nbconvert_exporter": "python",
   "pygments_lexer": "ipython3",
   "version": "3.6.5"
  },
  "varInspector": {
   "cols": {
    "lenName": 16,
    "lenType": 16,
    "lenVar": 40
   },
   "kernels_config": {
    "python": {
     "delete_cmd_postfix": "",
     "delete_cmd_prefix": "del ",
     "library": "var_list.py",
     "varRefreshCmd": "print(var_dic_list())"
    },
    "r": {
     "delete_cmd_postfix": ") ",
     "delete_cmd_prefix": "rm(",
     "library": "var_list.r",
     "varRefreshCmd": "cat(var_dic_list()) "
    }
   },
   "types_to_exclude": [
    "module",
    "function",
    "builtin_function_or_method",
    "instance",
    "_Feature"
   ],
   "window_display": false
  }
 },
 "nbformat": 4,
 "nbformat_minor": 2
}
